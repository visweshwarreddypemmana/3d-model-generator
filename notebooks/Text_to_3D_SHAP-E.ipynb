{
  "nbformat": 4,
  "nbformat_minor": 0,
  "metadata": {
    "colab": {
      "provenance": [],
      "gpuType": "T4"
    },
    "kernelspec": {
      "name": "python3",
      "display_name": "Python 3"
    },
    "language_info": {
      "name": "python"
    },
    "accelerator": "GPU",
    "widgets": {
      "application/vnd.jupyter.widget-state+json": {
        "3d10012008574239bd2efc6039e5cc74": {
          "model_module": "@jupyter-widgets/controls",
          "model_name": "HBoxModel",
          "model_module_version": "1.5.0",
          "state": {
            "_dom_classes": [],
            "_model_module": "@jupyter-widgets/controls",
            "_model_module_version": "1.5.0",
            "_model_name": "HBoxModel",
            "_view_count": null,
            "_view_module": "@jupyter-widgets/controls",
            "_view_module_version": "1.5.0",
            "_view_name": "HBoxView",
            "box_style": "",
            "children": [
              "IPY_MODEL_a13b45efe0ce4bf1bf68a3450bb57622",
              "IPY_MODEL_9d30e76d352146fd886b39b1899a3acb",
              "IPY_MODEL_a5862979079341d89572def2176bb272"
            ],
            "layout": "IPY_MODEL_3dad179cb3004e9d854b78ee2a90ad48"
          }
        },
        "a13b45efe0ce4bf1bf68a3450bb57622": {
          "model_module": "@jupyter-widgets/controls",
          "model_name": "HTMLModel",
          "model_module_version": "1.5.0",
          "state": {
            "_dom_classes": [],
            "_model_module": "@jupyter-widgets/controls",
            "_model_module_version": "1.5.0",
            "_model_name": "HTMLModel",
            "_view_count": null,
            "_view_module": "@jupyter-widgets/controls",
            "_view_module_version": "1.5.0",
            "_view_name": "HTMLView",
            "description": "",
            "description_tooltip": null,
            "layout": "IPY_MODEL_e6cb53bcb9074334b1c195f6a3abd93e",
            "placeholder": "​",
            "style": "IPY_MODEL_b2c6d662b649458bbedc1c8613d7eadf",
            "value": "100%"
          }
        },
        "9d30e76d352146fd886b39b1899a3acb": {
          "model_module": "@jupyter-widgets/controls",
          "model_name": "FloatProgressModel",
          "model_module_version": "1.5.0",
          "state": {
            "_dom_classes": [],
            "_model_module": "@jupyter-widgets/controls",
            "_model_module_version": "1.5.0",
            "_model_name": "FloatProgressModel",
            "_view_count": null,
            "_view_module": "@jupyter-widgets/controls",
            "_view_module_version": "1.5.0",
            "_view_name": "ProgressView",
            "bar_style": "success",
            "description": "",
            "description_tooltip": null,
            "layout": "IPY_MODEL_c0703c8f2aa14800a5aa44a815557798",
            "max": 1262868003,
            "min": 0,
            "orientation": "horizontal",
            "style": "IPY_MODEL_eae482d4ebd2404fa12e34192d032779",
            "value": 1262868003
          }
        },
        "a5862979079341d89572def2176bb272": {
          "model_module": "@jupyter-widgets/controls",
          "model_name": "HTMLModel",
          "model_module_version": "1.5.0",
          "state": {
            "_dom_classes": [],
            "_model_module": "@jupyter-widgets/controls",
            "_model_module_version": "1.5.0",
            "_model_name": "HTMLModel",
            "_view_count": null,
            "_view_module": "@jupyter-widgets/controls",
            "_view_module_version": "1.5.0",
            "_view_name": "HTMLView",
            "description": "",
            "description_tooltip": null,
            "layout": "IPY_MODEL_46e478efae364cf0b8d4fae657584854",
            "placeholder": "​",
            "style": "IPY_MODEL_4f9b1c88f1874efe9bca9fcc9ed30b3b",
            "value": " 1.26G/1.26G [00:19&lt;00:00, 80.7MiB/s]"
          }
        },
        "3dad179cb3004e9d854b78ee2a90ad48": {
          "model_module": "@jupyter-widgets/base",
          "model_name": "LayoutModel",
          "model_module_version": "1.2.0",
          "state": {
            "_model_module": "@jupyter-widgets/base",
            "_model_module_version": "1.2.0",
            "_model_name": "LayoutModel",
            "_view_count": null,
            "_view_module": "@jupyter-widgets/base",
            "_view_module_version": "1.2.0",
            "_view_name": "LayoutView",
            "align_content": null,
            "align_items": null,
            "align_self": null,
            "border": null,
            "bottom": null,
            "display": null,
            "flex": null,
            "flex_flow": null,
            "grid_area": null,
            "grid_auto_columns": null,
            "grid_auto_flow": null,
            "grid_auto_rows": null,
            "grid_column": null,
            "grid_gap": null,
            "grid_row": null,
            "grid_template_areas": null,
            "grid_template_columns": null,
            "grid_template_rows": null,
            "height": null,
            "justify_content": null,
            "justify_items": null,
            "left": null,
            "margin": null,
            "max_height": null,
            "max_width": null,
            "min_height": null,
            "min_width": null,
            "object_fit": null,
            "object_position": null,
            "order": null,
            "overflow": null,
            "overflow_x": null,
            "overflow_y": null,
            "padding": null,
            "right": null,
            "top": null,
            "visibility": null,
            "width": null
          }
        },
        "e6cb53bcb9074334b1c195f6a3abd93e": {
          "model_module": "@jupyter-widgets/base",
          "model_name": "LayoutModel",
          "model_module_version": "1.2.0",
          "state": {
            "_model_module": "@jupyter-widgets/base",
            "_model_module_version": "1.2.0",
            "_model_name": "LayoutModel",
            "_view_count": null,
            "_view_module": "@jupyter-widgets/base",
            "_view_module_version": "1.2.0",
            "_view_name": "LayoutView",
            "align_content": null,
            "align_items": null,
            "align_self": null,
            "border": null,
            "bottom": null,
            "display": null,
            "flex": null,
            "flex_flow": null,
            "grid_area": null,
            "grid_auto_columns": null,
            "grid_auto_flow": null,
            "grid_auto_rows": null,
            "grid_column": null,
            "grid_gap": null,
            "grid_row": null,
            "grid_template_areas": null,
            "grid_template_columns": null,
            "grid_template_rows": null,
            "height": null,
            "justify_content": null,
            "justify_items": null,
            "left": null,
            "margin": null,
            "max_height": null,
            "max_width": null,
            "min_height": null,
            "min_width": null,
            "object_fit": null,
            "object_position": null,
            "order": null,
            "overflow": null,
            "overflow_x": null,
            "overflow_y": null,
            "padding": null,
            "right": null,
            "top": null,
            "visibility": null,
            "width": null
          }
        },
        "b2c6d662b649458bbedc1c8613d7eadf": {
          "model_module": "@jupyter-widgets/controls",
          "model_name": "DescriptionStyleModel",
          "model_module_version": "1.5.0",
          "state": {
            "_model_module": "@jupyter-widgets/controls",
            "_model_module_version": "1.5.0",
            "_model_name": "DescriptionStyleModel",
            "_view_count": null,
            "_view_module": "@jupyter-widgets/base",
            "_view_module_version": "1.2.0",
            "_view_name": "StyleView",
            "description_width": ""
          }
        },
        "c0703c8f2aa14800a5aa44a815557798": {
          "model_module": "@jupyter-widgets/base",
          "model_name": "LayoutModel",
          "model_module_version": "1.2.0",
          "state": {
            "_model_module": "@jupyter-widgets/base",
            "_model_module_version": "1.2.0",
            "_model_name": "LayoutModel",
            "_view_count": null,
            "_view_module": "@jupyter-widgets/base",
            "_view_module_version": "1.2.0",
            "_view_name": "LayoutView",
            "align_content": null,
            "align_items": null,
            "align_self": null,
            "border": null,
            "bottom": null,
            "display": null,
            "flex": null,
            "flex_flow": null,
            "grid_area": null,
            "grid_auto_columns": null,
            "grid_auto_flow": null,
            "grid_auto_rows": null,
            "grid_column": null,
            "grid_gap": null,
            "grid_row": null,
            "grid_template_areas": null,
            "grid_template_columns": null,
            "grid_template_rows": null,
            "height": null,
            "justify_content": null,
            "justify_items": null,
            "left": null,
            "margin": null,
            "max_height": null,
            "max_width": null,
            "min_height": null,
            "min_width": null,
            "object_fit": null,
            "object_position": null,
            "order": null,
            "overflow": null,
            "overflow_x": null,
            "overflow_y": null,
            "padding": null,
            "right": null,
            "top": null,
            "visibility": null,
            "width": null
          }
        },
        "eae482d4ebd2404fa12e34192d032779": {
          "model_module": "@jupyter-widgets/controls",
          "model_name": "ProgressStyleModel",
          "model_module_version": "1.5.0",
          "state": {
            "_model_module": "@jupyter-widgets/controls",
            "_model_module_version": "1.5.0",
            "_model_name": "ProgressStyleModel",
            "_view_count": null,
            "_view_module": "@jupyter-widgets/base",
            "_view_module_version": "1.2.0",
            "_view_name": "StyleView",
            "bar_color": null,
            "description_width": ""
          }
        },
        "46e478efae364cf0b8d4fae657584854": {
          "model_module": "@jupyter-widgets/base",
          "model_name": "LayoutModel",
          "model_module_version": "1.2.0",
          "state": {
            "_model_module": "@jupyter-widgets/base",
            "_model_module_version": "1.2.0",
            "_model_name": "LayoutModel",
            "_view_count": null,
            "_view_module": "@jupyter-widgets/base",
            "_view_module_version": "1.2.0",
            "_view_name": "LayoutView",
            "align_content": null,
            "align_items": null,
            "align_self": null,
            "border": null,
            "bottom": null,
            "display": null,
            "flex": null,
            "flex_flow": null,
            "grid_area": null,
            "grid_auto_columns": null,
            "grid_auto_flow": null,
            "grid_auto_rows": null,
            "grid_column": null,
            "grid_gap": null,
            "grid_row": null,
            "grid_template_areas": null,
            "grid_template_columns": null,
            "grid_template_rows": null,
            "height": null,
            "justify_content": null,
            "justify_items": null,
            "left": null,
            "margin": null,
            "max_height": null,
            "max_width": null,
            "min_height": null,
            "min_width": null,
            "object_fit": null,
            "object_position": null,
            "order": null,
            "overflow": null,
            "overflow_x": null,
            "overflow_y": null,
            "padding": null,
            "right": null,
            "top": null,
            "visibility": null,
            "width": null
          }
        },
        "4f9b1c88f1874efe9bca9fcc9ed30b3b": {
          "model_module": "@jupyter-widgets/controls",
          "model_name": "DescriptionStyleModel",
          "model_module_version": "1.5.0",
          "state": {
            "_model_module": "@jupyter-widgets/controls",
            "_model_module_version": "1.5.0",
            "_model_name": "DescriptionStyleModel",
            "_view_count": null,
            "_view_module": "@jupyter-widgets/base",
            "_view_module_version": "1.2.0",
            "_view_name": "StyleView",
            "description_width": ""
          }
        },
        "6b6da9051c2d4f968f5552e02099c3e9": {
          "model_module": "@jupyter-widgets/controls",
          "model_name": "HBoxModel",
          "model_module_version": "1.5.0",
          "state": {
            "_dom_classes": [],
            "_model_module": "@jupyter-widgets/controls",
            "_model_module_version": "1.5.0",
            "_model_name": "HBoxModel",
            "_view_count": null,
            "_view_module": "@jupyter-widgets/controls",
            "_view_module_version": "1.5.0",
            "_view_name": "HBoxView",
            "box_style": "",
            "children": [
              "IPY_MODEL_fea66ba731814e4c8e48e06b248bd1a0",
              "IPY_MODEL_728c9a574b7446879acf31db060cc6a2",
              "IPY_MODEL_999c1b6cb94e4c8dbbaab503911a5724"
            ],
            "layout": "IPY_MODEL_be19f0cbff7f49b0a5b0f186ffa4c771"
          }
        },
        "fea66ba731814e4c8e48e06b248bd1a0": {
          "model_module": "@jupyter-widgets/controls",
          "model_name": "HTMLModel",
          "model_module_version": "1.5.0",
          "state": {
            "_dom_classes": [],
            "_model_module": "@jupyter-widgets/controls",
            "_model_module_version": "1.5.0",
            "_model_name": "HTMLModel",
            "_view_count": null,
            "_view_module": "@jupyter-widgets/controls",
            "_view_module_version": "1.5.0",
            "_view_name": "HTMLView",
            "description": "",
            "description_tooltip": null,
            "layout": "IPY_MODEL_a5a812e8850b4851bdb3eb5c83a1193b",
            "placeholder": "​",
            "style": "IPY_MODEL_a4035a1968c346489a5e85056ad49a3c",
            "value": "100%"
          }
        },
        "728c9a574b7446879acf31db060cc6a2": {
          "model_module": "@jupyter-widgets/controls",
          "model_name": "FloatProgressModel",
          "model_module_version": "1.5.0",
          "state": {
            "_dom_classes": [],
            "_model_module": "@jupyter-widgets/controls",
            "_model_module_version": "1.5.0",
            "_model_name": "FloatProgressModel",
            "_view_count": null,
            "_view_module": "@jupyter-widgets/controls",
            "_view_module_version": "1.5.0",
            "_view_name": "ProgressView",
            "bar_style": "success",
            "description": "",
            "description_tooltip": null,
            "layout": "IPY_MODEL_a16e7f387a8c4f34bb01b4adf9660c1e",
            "max": 64,
            "min": 0,
            "orientation": "horizontal",
            "style": "IPY_MODEL_d8c6ff410b1143aea53992a535e4f0ba",
            "value": 64
          }
        },
        "999c1b6cb94e4c8dbbaab503911a5724": {
          "model_module": "@jupyter-widgets/controls",
          "model_name": "HTMLModel",
          "model_module_version": "1.5.0",
          "state": {
            "_dom_classes": [],
            "_model_module": "@jupyter-widgets/controls",
            "_model_module_version": "1.5.0",
            "_model_name": "HTMLModel",
            "_view_count": null,
            "_view_module": "@jupyter-widgets/controls",
            "_view_module_version": "1.5.0",
            "_view_name": "HTMLView",
            "description": "",
            "description_tooltip": null,
            "layout": "IPY_MODEL_506ddd6f15764fe892b8b8bb688e9001",
            "placeholder": "​",
            "style": "IPY_MODEL_36e8e8608ae04437bafd975f99627b58",
            "value": " 64/64 [00:28&lt;00:00,  2.56it/s]"
          }
        },
        "be19f0cbff7f49b0a5b0f186ffa4c771": {
          "model_module": "@jupyter-widgets/base",
          "model_name": "LayoutModel",
          "model_module_version": "1.2.0",
          "state": {
            "_model_module": "@jupyter-widgets/base",
            "_model_module_version": "1.2.0",
            "_model_name": "LayoutModel",
            "_view_count": null,
            "_view_module": "@jupyter-widgets/base",
            "_view_module_version": "1.2.0",
            "_view_name": "LayoutView",
            "align_content": null,
            "align_items": null,
            "align_self": null,
            "border": null,
            "bottom": null,
            "display": null,
            "flex": null,
            "flex_flow": null,
            "grid_area": null,
            "grid_auto_columns": null,
            "grid_auto_flow": null,
            "grid_auto_rows": null,
            "grid_column": null,
            "grid_gap": null,
            "grid_row": null,
            "grid_template_areas": null,
            "grid_template_columns": null,
            "grid_template_rows": null,
            "height": null,
            "justify_content": null,
            "justify_items": null,
            "left": null,
            "margin": null,
            "max_height": null,
            "max_width": null,
            "min_height": null,
            "min_width": null,
            "object_fit": null,
            "object_position": null,
            "order": null,
            "overflow": null,
            "overflow_x": null,
            "overflow_y": null,
            "padding": null,
            "right": null,
            "top": null,
            "visibility": null,
            "width": null
          }
        },
        "a5a812e8850b4851bdb3eb5c83a1193b": {
          "model_module": "@jupyter-widgets/base",
          "model_name": "LayoutModel",
          "model_module_version": "1.2.0",
          "state": {
            "_model_module": "@jupyter-widgets/base",
            "_model_module_version": "1.2.0",
            "_model_name": "LayoutModel",
            "_view_count": null,
            "_view_module": "@jupyter-widgets/base",
            "_view_module_version": "1.2.0",
            "_view_name": "LayoutView",
            "align_content": null,
            "align_items": null,
            "align_self": null,
            "border": null,
            "bottom": null,
            "display": null,
            "flex": null,
            "flex_flow": null,
            "grid_area": null,
            "grid_auto_columns": null,
            "grid_auto_flow": null,
            "grid_auto_rows": null,
            "grid_column": null,
            "grid_gap": null,
            "grid_row": null,
            "grid_template_areas": null,
            "grid_template_columns": null,
            "grid_template_rows": null,
            "height": null,
            "justify_content": null,
            "justify_items": null,
            "left": null,
            "margin": null,
            "max_height": null,
            "max_width": null,
            "min_height": null,
            "min_width": null,
            "object_fit": null,
            "object_position": null,
            "order": null,
            "overflow": null,
            "overflow_x": null,
            "overflow_y": null,
            "padding": null,
            "right": null,
            "top": null,
            "visibility": null,
            "width": null
          }
        },
        "a4035a1968c346489a5e85056ad49a3c": {
          "model_module": "@jupyter-widgets/controls",
          "model_name": "DescriptionStyleModel",
          "model_module_version": "1.5.0",
          "state": {
            "_model_module": "@jupyter-widgets/controls",
            "_model_module_version": "1.5.0",
            "_model_name": "DescriptionStyleModel",
            "_view_count": null,
            "_view_module": "@jupyter-widgets/base",
            "_view_module_version": "1.2.0",
            "_view_name": "StyleView",
            "description_width": ""
          }
        },
        "a16e7f387a8c4f34bb01b4adf9660c1e": {
          "model_module": "@jupyter-widgets/base",
          "model_name": "LayoutModel",
          "model_module_version": "1.2.0",
          "state": {
            "_model_module": "@jupyter-widgets/base",
            "_model_module_version": "1.2.0",
            "_model_name": "LayoutModel",
            "_view_count": null,
            "_view_module": "@jupyter-widgets/base",
            "_view_module_version": "1.2.0",
            "_view_name": "LayoutView",
            "align_content": null,
            "align_items": null,
            "align_self": null,
            "border": null,
            "bottom": null,
            "display": null,
            "flex": null,
            "flex_flow": null,
            "grid_area": null,
            "grid_auto_columns": null,
            "grid_auto_flow": null,
            "grid_auto_rows": null,
            "grid_column": null,
            "grid_gap": null,
            "grid_row": null,
            "grid_template_areas": null,
            "grid_template_columns": null,
            "grid_template_rows": null,
            "height": null,
            "justify_content": null,
            "justify_items": null,
            "left": null,
            "margin": null,
            "max_height": null,
            "max_width": null,
            "min_height": null,
            "min_width": null,
            "object_fit": null,
            "object_position": null,
            "order": null,
            "overflow": null,
            "overflow_x": null,
            "overflow_y": null,
            "padding": null,
            "right": null,
            "top": null,
            "visibility": null,
            "width": null
          }
        },
        "d8c6ff410b1143aea53992a535e4f0ba": {
          "model_module": "@jupyter-widgets/controls",
          "model_name": "ProgressStyleModel",
          "model_module_version": "1.5.0",
          "state": {
            "_model_module": "@jupyter-widgets/controls",
            "_model_module_version": "1.5.0",
            "_model_name": "ProgressStyleModel",
            "_view_count": null,
            "_view_module": "@jupyter-widgets/base",
            "_view_module_version": "1.2.0",
            "_view_name": "StyleView",
            "bar_color": null,
            "description_width": ""
          }
        },
        "506ddd6f15764fe892b8b8bb688e9001": {
          "model_module": "@jupyter-widgets/base",
          "model_name": "LayoutModel",
          "model_module_version": "1.2.0",
          "state": {
            "_model_module": "@jupyter-widgets/base",
            "_model_module_version": "1.2.0",
            "_model_name": "LayoutModel",
            "_view_count": null,
            "_view_module": "@jupyter-widgets/base",
            "_view_module_version": "1.2.0",
            "_view_name": "LayoutView",
            "align_content": null,
            "align_items": null,
            "align_self": null,
            "border": null,
            "bottom": null,
            "display": null,
            "flex": null,
            "flex_flow": null,
            "grid_area": null,
            "grid_auto_columns": null,
            "grid_auto_flow": null,
            "grid_auto_rows": null,
            "grid_column": null,
            "grid_gap": null,
            "grid_row": null,
            "grid_template_areas": null,
            "grid_template_columns": null,
            "grid_template_rows": null,
            "height": null,
            "justify_content": null,
            "justify_items": null,
            "left": null,
            "margin": null,
            "max_height": null,
            "max_width": null,
            "min_height": null,
            "min_width": null,
            "object_fit": null,
            "object_position": null,
            "order": null,
            "overflow": null,
            "overflow_x": null,
            "overflow_y": null,
            "padding": null,
            "right": null,
            "top": null,
            "visibility": null,
            "width": null
          }
        },
        "36e8e8608ae04437bafd975f99627b58": {
          "model_module": "@jupyter-widgets/controls",
          "model_name": "DescriptionStyleModel",
          "model_module_version": "1.5.0",
          "state": {
            "_model_module": "@jupyter-widgets/controls",
            "_model_module_version": "1.5.0",
            "_model_name": "DescriptionStyleModel",
            "_view_count": null,
            "_view_module": "@jupyter-widgets/base",
            "_view_module_version": "1.2.0",
            "_view_name": "StyleView",
            "description_width": ""
          }
        },
        "ab9e37f41d284aecb883be8cfe7a0577": {
          "model_module": "@jupyter-widgets/controls",
          "model_name": "HTMLModel",
          "model_module_version": "1.5.0",
          "state": {
            "_dom_classes": [],
            "_model_module": "@jupyter-widgets/controls",
            "_model_module_version": "1.5.0",
            "_model_name": "HTMLModel",
            "_view_count": null,
            "_view_module": "@jupyter-widgets/controls",
            "_view_module_version": "1.5.0",
            "_view_name": "HTMLView",
            "description": "",
            "description_tooltip": null,
            "layout": "IPY_MODEL_e897846eef9c43d5a7269fdbcefc1c3f",
            "placeholder": "​",
            "style": "IPY_MODEL_36fec849a83842b38755c67666dd876e",
            "value": "<img src=\"data:image/gif;base64,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\" />"
          }
        },
        "e897846eef9c43d5a7269fdbcefc1c3f": {
          "model_module": "@jupyter-widgets/base",
          "model_name": "LayoutModel",
          "model_module_version": "1.2.0",
          "state": {
            "_model_module": "@jupyter-widgets/base",
            "_model_module_version": "1.2.0",
            "_model_name": "LayoutModel",
            "_view_count": null,
            "_view_module": "@jupyter-widgets/base",
            "_view_module_version": "1.2.0",
            "_view_name": "LayoutView",
            "align_content": null,
            "align_items": null,
            "align_self": null,
            "border": null,
            "bottom": null,
            "display": null,
            "flex": null,
            "flex_flow": null,
            "grid_area": null,
            "grid_auto_columns": null,
            "grid_auto_flow": null,
            "grid_auto_rows": null,
            "grid_column": null,
            "grid_gap": null,
            "grid_row": null,
            "grid_template_areas": null,
            "grid_template_columns": null,
            "grid_template_rows": null,
            "height": null,
            "justify_content": null,
            "justify_items": null,
            "left": null,
            "margin": null,
            "max_height": null,
            "max_width": null,
            "min_height": null,
            "min_width": null,
            "object_fit": null,
            "object_position": null,
            "order": null,
            "overflow": null,
            "overflow_x": null,
            "overflow_y": null,
            "padding": null,
            "right": null,
            "top": null,
            "visibility": null,
            "width": null
          }
        },
        "36fec849a83842b38755c67666dd876e": {
          "model_module": "@jupyter-widgets/controls",
          "model_name": "DescriptionStyleModel",
          "model_module_version": "1.5.0",
          "state": {
            "_model_module": "@jupyter-widgets/controls",
            "_model_module_version": "1.5.0",
            "_model_name": "DescriptionStyleModel",
            "_view_count": null,
            "_view_module": "@jupyter-widgets/base",
            "_view_module_version": "1.2.0",
            "_view_name": "StyleView",
            "description_width": ""
          }
        }
      }
    }
  },
  "cells": [
    {
      "cell_type": "code",
      "execution_count": 1,
      "metadata": {
        "colab": {
          "base_uri": "https://localhost:8080/"
        },
        "id": "Dma1PCchrWzs",
        "outputId": "62c8a008-5113-4b28-811b-297d668a3c1d"
      },
      "outputs": [
        {
          "output_type": "stream",
          "name": "stdout",
          "text": [
            "fatal: destination path 'shap-e' already exists and is not an empty directory.\n"
          ]
        }
      ],
      "source": [
        "!git clone https://github.com/openai/shap-e"
      ]
    },
    {
      "cell_type": "code",
      "source": [
        "%cd shap-e"
      ],
      "metadata": {
        "colab": {
          "base_uri": "https://localhost:8080/"
        },
        "id": "7zefqVXOsugs",
        "outputId": "d3002d81-38c3-4a68-8870-b8b536fbe6d8"
      },
      "execution_count": 2,
      "outputs": [
        {
          "output_type": "stream",
          "name": "stdout",
          "text": [
            "/content/shap-e\n"
          ]
        }
      ]
    },
    {
      "cell_type": "code",
      "source": [
        "!pip install -e ."
      ],
      "metadata": {
        "id": "wPQnD6TSt1dp"
      },
      "execution_count": null,
      "outputs": []
    },
    {
      "cell_type": "code",
      "source": [
        "import torch\n",
        "\n",
        "from shap_e.diffusion.sample import sample_latents\n",
        "from shap_e.diffusion.gaussian_diffusion import diffusion_from_config\n",
        "from shap_e.models.download import load_model, load_config\n",
        "from shap_e.util.notebooks import create_pan_cameras, decode_latent_images, gif_widget"
      ],
      "metadata": {
        "id": "8s02_OaTszY9"
      },
      "execution_count": 4,
      "outputs": []
    },
    {
      "cell_type": "code",
      "source": [
        "device = torch.device('cuda' if torch.cuda.is_available() else 'cpu')"
      ],
      "metadata": {
        "id": "3hPBSySOs1ll"
      },
      "execution_count": 5,
      "outputs": []
    },
    {
      "cell_type": "code",
      "source": [
        "xm = load_model('transmitter', device=device)\n",
        "model = load_model('text300M', device=device)\n",
        "diffusion = diffusion_from_config(load_config('diffusion'))"
      ],
      "metadata": {
        "id": "HBQrtMArs4Yk",
        "colab": {
          "base_uri": "https://localhost:8080/",
          "height": 225,
          "referenced_widgets": [
            "3d10012008574239bd2efc6039e5cc74",
            "a13b45efe0ce4bf1bf68a3450bb57622",
            "9d30e76d352146fd886b39b1899a3acb",
            "a5862979079341d89572def2176bb272",
            "3dad179cb3004e9d854b78ee2a90ad48",
            "e6cb53bcb9074334b1c195f6a3abd93e",
            "b2c6d662b649458bbedc1c8613d7eadf",
            "c0703c8f2aa14800a5aa44a815557798",
            "eae482d4ebd2404fa12e34192d032779",
            "46e478efae364cf0b8d4fae657584854",
            "4f9b1c88f1874efe9bca9fcc9ed30b3b"
          ]
        },
        "outputId": "f6898727-f51e-4c87-890f-7864adca6b89"
      },
      "execution_count": 6,
      "outputs": [
        {
          "output_type": "stream",
          "name": "stderr",
          "text": [
            "/content/shap-e/shap_e/models/nn/checkpoint.py:31: FutureWarning: `torch.cuda.amp.custom_fwd(args...)` is deprecated. Please use `torch.amp.custom_fwd(args..., device_type='cuda')` instead.\n",
            "  @custom_fwd\n",
            "/content/shap-e/shap_e/models/nn/checkpoint.py:43: FutureWarning: `torch.cuda.amp.custom_bwd(args...)` is deprecated. Please use `torch.amp.custom_bwd(args..., device_type='cuda')` instead.\n",
            "  @custom_bwd\n",
            "/content/shap-e/shap_e/models/nn/checkpoint.py:61: FutureWarning: `torch.cuda.amp.custom_fwd(args...)` is deprecated. Please use `torch.amp.custom_fwd(args..., device_type='cuda')` instead.\n",
            "  @custom_fwd\n",
            "/content/shap-e/shap_e/models/nn/checkpoint.py:86: FutureWarning: `torch.cuda.amp.custom_bwd(args...)` is deprecated. Please use `torch.amp.custom_bwd(args..., device_type='cuda')` instead.\n",
            "  @custom_bwd\n",
            "100%|███████████████████████████████████████| 890M/890M [00:13<00:00, 66.7MiB/s]\n"
          ]
        },
        {
          "output_type": "display_data",
          "data": {
            "text/plain": [
              "  0%|          | 0.00/1.26G [00:00<?, ?iB/s]"
            ],
            "application/vnd.jupyter.widget-view+json": {
              "version_major": 2,
              "version_minor": 0,
              "model_id": "3d10012008574239bd2efc6039e5cc74"
            }
          },
          "metadata": {}
        }
      ]
    },
    {
      "cell_type": "code",
      "source": [
        "batch_size = 1\n",
        "guidance_scale = 15.0\n",
        "prompt = \"a areloplane in shape of car\"\n",
        "\n",
        "latents = sample_latents(\n",
        "    batch_size=batch_size,\n",
        "    model=model,\n",
        "    diffusion=diffusion,\n",
        "    guidance_scale=guidance_scale,\n",
        "    model_kwargs=dict(texts=[prompt] * batch_size),\n",
        "    progress=True,\n",
        "    clip_denoised=True,\n",
        "    use_fp16=True,\n",
        "    use_karras=True,\n",
        "    karras_steps=64,\n",
        "    sigma_min=1e-3,\n",
        "    sigma_max=160,\n",
        "    s_churn=0,\n",
        ")"
      ],
      "metadata": {
        "id": "Nua8oVvss471",
        "colab": {
          "base_uri": "https://localhost:8080/",
          "height": 49,
          "referenced_widgets": [
            "6b6da9051c2d4f968f5552e02099c3e9",
            "fea66ba731814e4c8e48e06b248bd1a0",
            "728c9a574b7446879acf31db060cc6a2",
            "999c1b6cb94e4c8dbbaab503911a5724",
            "be19f0cbff7f49b0a5b0f186ffa4c771",
            "a5a812e8850b4851bdb3eb5c83a1193b",
            "a4035a1968c346489a5e85056ad49a3c",
            "a16e7f387a8c4f34bb01b4adf9660c1e",
            "d8c6ff410b1143aea53992a535e4f0ba",
            "506ddd6f15764fe892b8b8bb688e9001",
            "36e8e8608ae04437bafd975f99627b58"
          ]
        },
        "outputId": "d595d291-ca4c-4d48-9bc9-9ba6ed390fa6"
      },
      "execution_count": 16,
      "outputs": [
        {
          "output_type": "display_data",
          "data": {
            "text/plain": [
              "  0%|          | 0/64 [00:00<?, ?it/s]"
            ],
            "application/vnd.jupyter.widget-view+json": {
              "version_major": 2,
              "version_minor": 0,
              "model_id": "6b6da9051c2d4f968f5552e02099c3e9"
            }
          },
          "metadata": {}
        }
      ]
    },
    {
      "cell_type": "code",
      "source": [
        "render_mode = 'nerf'\n",
        "size = 128\n",
        "\n",
        "cameras = create_pan_cameras(size, device)\n",
        "for i, latent in enumerate(latents):\n",
        "    images = decode_latent_images(xm, latent, cameras, rendering_mode=render_mode)\n",
        "    display(gif_widget(images))"
      ],
      "metadata": {
        "id": "mEevOWNYs9JJ",
        "colab": {
          "base_uri": "https://localhost:8080/",
          "height": 158,
          "referenced_widgets": [
            "ab9e37f41d284aecb883be8cfe7a0577",
            "e897846eef9c43d5a7269fdbcefc1c3f",
            "36fec849a83842b38755c67666dd876e"
          ]
        },
        "outputId": "c876288a-1e5b-4b81-e9a0-2c3917363c6a"
      },
      "execution_count": 18,
      "outputs": [
        {
          "output_type": "display_data",
          "data": {
            "text/plain": [
              "HTML(value='<img src=\"data:image/gif;base64,R0lGODlhgACAAIcAALKzs7Cyr7Cxsa+xrq6xrq+wr66wrq6vr62vrK+urq6ura2ura…"
            ],
            "application/vnd.jupyter.widget-view+json": {
              "version_major": 2,
              "version_minor": 0,
              "model_id": "ab9e37f41d284aecb883be8cfe7a0577"
            }
          },
          "metadata": {}
        }
      ]
    },
    {
      "cell_type": "code",
      "source": [
        "from shap_e.util.notebooks import decode_latent_mesh\n",
        "\n",
        "for i, latent in enumerate(latents):\n",
        "    with open(f'Output_mesh_{i}.ply', 'wb') as f:\n",
        "        decode_latent_mesh(xm, latent).tri_mesh().write_ply(f)"
      ],
      "metadata": {
        "id": "P95-PxB7s_SF"
      },
      "execution_count": 19,
      "outputs": []
    },
    {
      "cell_type": "code",
      "source": [],
      "metadata": {
        "id": "-2G1y3Gmv9Hi"
      },
      "execution_count": null,
      "outputs": []
    }
  ]
}